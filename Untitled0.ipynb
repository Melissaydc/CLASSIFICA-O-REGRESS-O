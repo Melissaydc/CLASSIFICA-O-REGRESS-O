{
  "nbformat": 4,
  "nbformat_minor": 0,
  "metadata": {
    "colab": {
      "provenance": [],
      "authorship_tag": "ABX9TyN50SEW78vSwdSpEk2zy3tj",
      "include_colab_link": true
    },
    "kernelspec": {
      "name": "python3",
      "display_name": "Python 3"
    },
    "language_info": {
      "name": "python"
    }
  },
  "cells": [
    {
      "cell_type": "markdown",
      "metadata": {
        "id": "view-in-github",
        "colab_type": "text"
      },
      "source": [
        "<a href=\"https://colab.research.google.com/github/Melissaydc/CLASSIFICA-O-REGRESS-O/blob/main/Untitled0.ipynb\" target=\"_parent\"><img src=\"https://colab.research.google.com/assets/colab-badge.svg\" alt=\"Open In Colab\"/></a>"
      ]
    },
    {
      "cell_type": "code",
      "execution_count": 2,
      "metadata": {
        "colab": {
          "base_uri": "https://localhost:8080/"
        },
        "id": "d84IqcpYK8SW",
        "outputId": "94b6eb9d-bf1f-4dd5-8050-f10418571da4"
      },
      "outputs": [
        {
          "output_type": "stream",
          "name": "stdout",
          "text": [
            "Previsão para o novo e-mail: Não Spam\n"
          ]
        }
      ],
      "source": [
        "from sklearn.naive_bayes import GaussianNB\n",
        "\n",
        "# Dados de exemplo\n",
        "X = [[100, 20], [150, 30], [120, 25], [140, 28]]\n",
        "y = ['Não Spam', 'Spam', 'Não Spam', 'Spam']\n",
        "\n",
        "# Treinando o modelo\n",
        "model = GaussianNB()\n",
        "model.fit(X, y)\n",
        "\n",
        "# Previsão para um novo e-mail\n",
        "novo_email = [[130, 22]]\n",
        "resultado = model.predict(novo_email)\n",
        "print(f\"Previsão para o novo e-mail: {resultado[0]}\")\n",
        "\n"
      ]
    },
    {
      "cell_type": "code",
      "source": [
        "# Importação das bibliotecas necessárias\n",
        "import numpy as np\n",
        "from sklearn.model_selection import train_test_split\n",
        "from sklearn.feature_extraction.text import CountVectorizer\n",
        "from sklearn.naive_bayes import MultinomialNB\n",
        "from sklearn.metrics import accuracy_score\n",
        "\n",
        "# Passo 1: Preparar os dados\n",
        "emails = [\n",
        "    \"Oferta imperdível! Ganhe 50% de desconto em todos os produtos!\",\n",
        "    \"Parabéns! Você ganhou um prêmio de R$ 10.000! Clique aqui para resgatar.\",\n",
        "    \"Você recebeu uma nova mensagem de seu amigo João.\",\n",
        "    \"Confira as novas ofertas da loja. Não perca!\",\n",
        "    \"Reunião de equipe amanhã às 10h. Por favor, confirme sua presença.\",\n",
        "    \"Lembrete: pagamento da fatura do seu cartão de crédito vence amanhã.\",\n",
        "]\n",
        "\n",
        "labels = [1, 1, 0, 0, 0, 0]  # 1 para spam, 0 para não spam\n",
        "\n",
        "# Passo 2: Transformar os dados em uma matriz de contagem de palavras (bag of words)\n",
        "vectorizer = CountVectorizer()\n",
        "X = vectorizer.fit_transform(emails)\n",
        "\n",
        "# Passo 3: Dividir os dados em conjunto de treinamento e conjunto de teste\n",
        "X_train, X_test, y_train, y_test = train_test_split(X, labels, test_size=0.2, random_state=42)\n",
        "\n",
        "# Passo 4: Treinar o modelo Naive Bayes\n",
        "X_train, X_test, y_train, y_test = train_test_split(X, labels, test_size=0.2, random_state=42)\n",
        "\n",
        "# Passo 5: Criar e treinar o modelo\n",
        "model = MultinomialNB()\n",
        "model.fit(X_train, y_train)\n",
        "\n",
        "# Passo 6: Fazer previsões\n",
        "predictions = model.predict(X_test)\n",
        "\n",
        "# Passo 7: Avaliar a precisão do modelo\n",
        "accuracy = accuracy_score(y_test, predictions)\n",
        "print(\"Accuracy:\", accuracy)"
      ],
      "metadata": {
        "colab": {
          "base_uri": "https://localhost:8080/"
        },
        "id": "YeosuFJZMu_w",
        "outputId": "714578ff-bc73-49e2-e9ce-9378c55f490f"
      },
      "execution_count": 3,
      "outputs": [
        {
          "output_type": "stream",
          "name": "stdout",
          "text": [
            "Accuracy: 0.0\n"
          ]
        }
      ]
    },
    {
      "cell_type": "code",
      "source": [
        "# Passo 1: Importar as bibliotecas necessárias\n",
        "import numpy as np\n",
        "from sklearn.model_selection import train_test_split\n",
        "from sklearn.feature_extraction.text import CountVectorizer\n",
        "from sklearn.neighbors import KNeighborsClassifier\n",
        "from sklearn.metrics import accuracy_score\n",
        "\n",
        "# Passo 2: Preparar os dados\n",
        "# Suponha que temos um conjunto de dados com e-mails e seus rótulos(spam ou não spam)\n",
        "# Aqui está um exemplo simples de um conjunto de dados ficticio:\n",
        "emails = [\n",
        "    \"Oferta imperdível! Ganhe 50% de desconto em todos os produtos!\",\n",
        "    \"Você ganhou um prêmio de R$ 10.000! Clique aqui para resgatar.\",\n",
        "    \"Confira as novas ofertas da loja. Não perca!\",\n",
        "    \"Reunião de equipe amanhã às 18h. Por favor, confirme sua presença.\",\n",
        "    \"Lembrete: pagamento da fatura do cartão de crédito vence amanhã.\",\n",
        "]\n",
        "\n",
        "labels = [1, 1, 1, 0, 0]  # 1 para spam, 0 para não spam\n",
        "\n",
        "# Passo 3: Transformar os dados em uma matriz de contagem de palavras (bag of words)\n",
        "vectorizer = CountVectorizer()\n",
        "X = vectorizer.fit_transform(emails)\n",
        "\n",
        "# Passo 4: Dividir os dados em conjunto de treinamento e conjunto de teste\n",
        "X_train, X_test, y_train, y_test = train_test_split(X, labels, test_size=0.3, random_state=12)\n",
        "\n",
        "# Passo 5: Criar e treinar o modelo KNN\n",
        "model = KNeighborsClassifier(n_neighbors=3)\n",
        "model.fit(X_train, y_train)\n",
        "\n",
        "#Passo 6: Fazer previsões\n",
        "predictions = model.predict(X_test)\n",
        "\n",
        "# Passo 7: Avaliar a precisão do modelo\n",
        "accuracy = accuracy_score(y_test, predictions)\n",
        "print(\"Acurácia:\", accuracy)\n"
      ],
      "metadata": {
        "colab": {
          "base_uri": "https://localhost:8080/"
        },
        "id": "TviliS4sPSgF",
        "outputId": "e32c6a83-b899-4cbf-cf14-33f3b3db752e"
      },
      "execution_count": 4,
      "outputs": [
        {
          "output_type": "stream",
          "name": "stdout",
          "text": [
            "Acurácia: 0.0\n"
          ]
        }
      ]
    },
    {
      "cell_type": "code",
      "source": [
        "# Importação das bibliotecas necessárias\n",
        "import numpy as np\n",
        "from sklearn.model_selection import train_test_split\n",
        "from sklearn.feature_extraction.text import CountVectorizer\n",
        "from sklearn.svm import SVM\n",
        "from sklearn.metrics import accuracy_score\n",
        "\n",
        "# Passo 1: Preparar os dados\n",
        "emails = [\n",
        "    \"Oferta imperdível! Ganhe 50% de desconto em todos os produtos!\",\n",
        "    \"Parabéns! Você ganhou um prêmio de R$ 10.000! Clique aqui para resgatar.\",\n",
        "    \"Você recebeu uma nova mensagem de seu amigo João.\",\n",
        "    \"Confira as novas ofertas da loja. Não perca!\",\n",
        "    \"Reunião de equipe amanhã às 10h. Por favor, confirme sua presença.\",\n",
        "    \"Lembrete: pagamento da fatura do seu cartão de crédito vence amanhã.\",\n",
        "]\n",
        "\n",
        "labels = [1, 1, 0, 0, 0, 0]  # 1 para spam, 0 para não spam\n",
        "\n",
        "# Passo 2: Transformar os dados em uma matriz de contagem de palavras (bag of words)\n",
        "vectorizer = CountVectorizer()\n",
        "X = vectorizer.fit_transform(emails)\n",
        "\n",
        "# Passo 3: Dividir os dados em conjunto de treinamento e conjunto de teste\n",
        "X_train, X_test, y_train, y_test = train_test_split(X, labels, test_size=0.2, random_state=42)\n",
        "\n",
        "# Passo 4: Treinar o modelo Naive Bayes\n",
        "X_train, X_test, y_train, y_test = train_test_split(X, labels, test_size=0.2, random_state=42)\n",
        "\n",
        "# Passo 5: Criar e treinar o modelo\n",
        "modelo = SVM(kernel='linear')\n",
        "modelo.fit(X_train, y_train)\n",
        "\n",
        "# Passo 6: Fazer previsões\n",
        "predictions = model.predict(X_test)\n",
        "\n",
        "# Passo 7: Avaliar a precisão do modelo\n",
        "accuracy = accuracy_score(y_test, predictions)\n",
        "print(\"Accuracy:\", accuracy)"
      ],
      "metadata": {
        "id": "JZSPN0yOQuUo"
      },
      "execution_count": null,
      "outputs": []
    },
    {
      "cell_type": "code",
      "source": [
        "# Importação das bibliotecas necessárias\n",
        "import numpy as np\n",
        "from sklearn.model_selection import train_test_split\n",
        "from sklearn.feature_extraction.text import CountVectorizer\n",
        "from sklearn.tree import DecisionTreeClassifier\n",
        "from sklearn.metrics import accuracy_score\n",
        "\n",
        "# Passo 1: Preparar os dados\n",
        "emails = [\n",
        "    \"Oferta imperdível! Ganhe 50% de desconto em todos os produtos!\",\n",
        "    \"Parabéns! Você ganhou um prêmio de R$ 10.000! Clique aqui para resgatar.\",\n",
        "    \"Você recebeu uma nova mensagem de seu amigo João.\",\n",
        "    \"Confira as novas ofertas da loja. Não perca!\",\n",
        "    \"Reunião de equipe amanhã às 10h. Por favor, confirme sua presença.\",\n",
        "    \"Lembrete: pagamento da fatura do seu cartão de crédito vence amanhã.\",\n",
        "]\n",
        "\n",
        "labels = [1, 1, 0, 0, 0, 0]  # 1 para spam, 0 para não spam\n",
        "\n",
        "# Passo 2: Transformar os dados em uma matriz de contagem de palavras (bag of words)\n",
        "vectorizer = CountVectorizer()\n",
        "X = vectorizer.fit_transform(emails)\n",
        "\n",
        "# Passo 3: Dividir os dados em conjunto de treinamento e conjunto de teste\n",
        "X_train, X_test, y_train, y_test = train_test_split(X, labels, test_size=0.2, random_state=42)\n",
        "\n",
        "# Passo 4: Treinar o modelo Naive Bayes\n",
        "X_train, X_test, y_train, y_test = train_test_split(X, labels, test_size=0.2, random_state=42)\n",
        "\n",
        "# Passo 5: Criar e treinar o modelo\n",
        "modelo = DecisionTreeClassifier()\n",
        "modelo.fit(X_train, y_train)\n",
        "\n",
        "# Passo 6: Fazer previsões\n",
        "predictions = model.predict(X_test)\n",
        "\n",
        "# Passo 7: Avaliar a precisão do modelo\n",
        "accuracy = accuracy_score(y_test, predictions)\n",
        "print(\"Accuracy:\", accuracy)"
      ],
      "metadata": {
        "id": "7Sk9kIZfSXyl"
      },
      "execution_count": null,
      "outputs": []
    }
  ]
}